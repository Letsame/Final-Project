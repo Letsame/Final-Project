{
 "cells": [
  {
   "cell_type": "markdown",
   "metadata": {},
   "source": [
    "<center>\n",
    "    <img src=\"https://cf-courses-data.s3.us.cloud-object-storage.appdomain.cloud/IBMDeveloperSkillsNetwork-DS0105EN-SkillsNetwork/labs/Module2/images/SN_web_lightmode.png\" width=\"300\" alt=\"cognitiveclass.ai logo\">\n",
    "</center>\n"
   ]
  },
  {
   "cell_type": "markdown",
   "metadata": {},
   "source": [
    "__2. FINAL PROJECT - LETICIA__"
   ]
  },
  {
   "cell_type": "markdown",
   "metadata": {},
   "source": [
    "### 3. This is the final project for the course \"Tools for Data Science\" "
   ]
  },
  {
   "cell_type": "markdown",
   "metadata": {},
   "source": [
    "## 4. Data Science Languages\n",
    "1. Python \n",
    "2. R \n",
    "3. SQL\n",
    "4. Julia \n",
    "5. Scala"
   ]
  },
  {
   "cell_type": "markdown",
   "metadata": {},
   "source": [
    "## 5. Data Science Libraries \n",
    "- Pandas\n",
    "- Matplotlib\n",
    "- TensowFlow\n",
    "- NumPy\n",
    "- Seaborn\n",
    "- SciPy\n",
    "- Scikit-learn\n",
    "- Keras\n",
    "- Plotly\n",
    "- Ggplot"
   ]
  },
  {
   "cell_type": "markdown",
   "metadata": {},
   "source": [
    "6. Table\n",
    "| Tool | Type | Language | Description |\n",
    "|----|----|--------|-----------|\n",
    "| Pandas | Data Analysis | Python | Python library with powerful tools for data analysis |\n",
    "| PowerBI | Data Visualization | - | Dashboard creation tool |\n",
    "| TensowFlow | Machine Learning | Python | Open source framework for deep learning |\n",
    "| Keras | Deep Learning | Python | High-level library for deep learning |\n"
   ]
  },
  {
   "cell_type": "markdown",
   "metadata": {},
   "source": [
    "**7. Examples of arithmetic expressions:**\n",
    "1. **Addition:**\n",
    "   5 + 3\n",
    "3. **Subtraction:**\n",
    "   5 - 3 \n",
    "5. **Division**\n",
    "   5/3\n",
    "6. **Multiplication**\n",
    "   5*3"
   ]
  },
  {
   "cell_type": "code",
   "execution_count": 5,
   "metadata": {},
   "outputs": [
    {
     "name": "stdout",
     "output_type": "stream",
     "text": [
      "8 , 15\n"
     ]
    }
   ],
   "source": [
    "# Exercise 8\n",
    "sum = 5 + 3\n",
    "mult = 5*3\n",
    "print(sum,',', mult)"
   ]
  },
  {
   "cell_type": "code",
   "execution_count": 10,
   "metadata": {},
   "outputs": [
    {
     "name": "stdout",
     "output_type": "stream",
     "text": [
      "1 hours and 4 minutes\n"
     ]
    }
   ],
   "source": [
    "# Exercise 9\n",
    "def min_hour(min):\n",
    "    hour = min//60\n",
    "    rest_min = min%60\n",
    "    return f\"{hour} hours and {rest_min} minutes\"\n",
    "\n",
    "print(min_hour(64))"
   ]
  },
  {
   "cell_type": "markdown",
   "metadata": {},
   "source": [
    "Exercise 10: Objetives\n",
    "1. Learn tools for Data Science\n",
    "2. Pratice\n",
    "3. Finish the couse\n",
    "4. Be a good professional\n"
   ]
  },
  {
   "cell_type": "markdown",
   "metadata": {},
   "source": [
    "11. Autor: Leticia dos Santos Melo"
   ]
  }
 ],
 "metadata": {
  "kernelspec": {
   "display_name": "Python 3 (ipykernel)",
   "language": "python",
   "name": "python3"
  },
  "language_info": {
   "codemirror_mode": {
    "name": "ipython",
    "version": 3
   },
   "file_extension": ".py",
   "mimetype": "text/x-python",
   "name": "python",
   "nbconvert_exporter": "python",
   "pygments_lexer": "ipython3",
   "version": "3.12.8"
  }
 },
 "nbformat": 4,
 "nbformat_minor": 4
}
